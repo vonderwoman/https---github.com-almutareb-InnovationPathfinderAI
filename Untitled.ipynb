{
 "cells": [
  {
   "cell_type": "code",
   "execution_count": 2,
   "id": "5f960228",
   "metadata": {},
   "outputs": [
    {
     "name": "stdout",
     "output_type": "stream",
     "text": [
      "Haftpflicht-Schadenanzeige\n",
      "¤ Privathaftpflicht ¤ Berufshaftpflicht ¤ Tierhalter-Haftpflicht ¤\n",
      "Gesellschaft Versicherungsnummer Schaden-Nummer Betreuender Makler\n",
      "Versicherungsnehmer Anspruchsteller / Geschädigter\n",
      "Name, Vorname Name, Vorname\n",
      "Straße Straße\n",
      "PLZ Ort PLZ Ort\n",
      "Telefon Telefon\n",
      "FRAGEN ANTWORTEN\n",
      "Wann ereignete sich der Schaden? Datum Uhrzeit\n",
      "Wann ereignete sich der Schaden? Datum Uhrzeit\n",
      "Wann haben Sie erstmals davon Kenntnis Datum Uhrzeit\n",
      "erhalten?\n",
      "Wann wurde der Schaden erstmalig ge- Datum ¤ mündlich ¤ schriftlich\n",
      "meldet?\n",
      "Wem?\n",
      "Wo ereignete sich der Schaden? Straße / Hausnummer / PLZ / Ort / Ortsteil\n",
      "Wer hat den Schaden verursacht? ¤ Versicherungsnehmer ¤ Ehepartner ¤ Kind ¤ Tier ¤ sonstige Person\n",
      "Welche anderen Personen haben an der Name, Anschrift, Telefon\n",
      "Entstehung des Schadens mitgewirkt?\n",
      "Was war Anlaß, Hergang und Ursache für\n",
      "den Schaden?\n",
      "Möglichst ausführlich und umfassend\n",
      "beantworten, evtl. mit Skizze\n",
      "Lebt der Geschädigte mit Ihnen in häusli- ¤ nein ¤ ja\n",
      "cher Gemeinschaf\n"
     ]
    }
   ],
   "source": [
    "import pdfplumber\n",
    "\n",
    "def pdf_to_text(pdf_path):\n",
    "    text = \"\"\n",
    "    with pdfplumber.open(pdf_path) as pdf:\n",
    "        for page in pdf.pages:\n",
    "            text += page.extract_text()\n",
    "    return text\n",
    "\n",
    "# Adjust the path to your file\n",
    "pdf_path = r'C:\\Users\\sulek\\OneDrive\\Desktop\\financial rag system\\schadenanzeige_haftpflicht-2.pdf'\n",
    "text = pdf_to_text(pdf_path)\n",
    "print(text[:1000])  # Print first 1000 characters to check\n"
   ]
  },
  {
   "cell_type": "code",
   "execution_count": null,
   "id": "923510e5",
   "metadata": {},
   "outputs": [],
   "source": []
  }
 ],
 "metadata": {
  "kernelspec": {
   "display_name": "Python 3 (ipykernel)",
   "language": "python",
   "name": "python3"
  },
  "language_info": {
   "codemirror_mode": {
    "name": "ipython",
    "version": 3
   },
   "file_extension": ".py",
   "mimetype": "text/x-python",
   "name": "python",
   "nbconvert_exporter": "python",
   "pygments_lexer": "ipython3",
   "version": "3.11.4"
  }
 },
 "nbformat": 4,
 "nbformat_minor": 5
}
